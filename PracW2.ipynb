{
 "cells": [
  {
   "cell_type": "markdown",
   "metadata": {},
   "source": [
    "# Prac Week 2"
   ]
  },
  {
   "cell_type": "code",
   "execution_count": 2,
   "metadata": {},
   "outputs": [],
   "source": [
    "import pandas as pd\n",
    "import numpy as np\n",
    "import seaborn\n",
    "import os"
   ]
  },
  {
   "cell_type": "markdown",
   "metadata": {},
   "source": [
    "## Part I"
   ]
  },
  {
   "cell_type": "markdown",
   "metadata": {},
   "source": [
    "### Question 1"
   ]
  },
  {
   "cell_type": "code",
   "execution_count": null,
   "metadata": {},
   "outputs": [],
   "source": [
    "path = os.path.join(os.getcwd(), 'W2/pokemonsrt.csv')\n",
    "df = pd.read_csv(path)\n",
    "\n",
    "print(f\"{df.head()}\\n\")\n",
    "print(f\"{df.info()}\\n\")\n",
    "print(f\"{df.isnull().sum()}\\n\")\n",
    "\n",
    "for column in df:\n",
    "    print(f\"{df[column].describe()}\\n\")"
   ]
  },
  {
   "cell_type": "code",
   "execution_count": 4,
   "metadata": {},
   "outputs": [
    {
     "name": "stdout",
     "output_type": "stream",
     "text": [
      "1\n"
     ]
    }
   ],
   "source": [
    "df_clean = df.copy()\n",
    "\n",
    "for i in range(df['capture_rate'].size):\n",
    "    try:\n",
    "        int(df['capture_rate'].iloc[i])\n",
    "    except:\n",
    "        df_clean.loc[i, 'capture_rate'] = np.nan\n",
    "\n",
    "df_clean['capture_rate'] = pd.to_numeric(df_clean['capture_rate'])\n",
    "\n",
    "print(df_clean['capture_rate'].isnull().sum())"
   ]
  },
  {
   "cell_type": "markdown",
   "metadata": {},
   "source": [
    "### Question 2"
   ]
  },
  {
   "cell_type": "markdown",
   "metadata": {},
   "source": [
    "#### (a)"
   ]
  },
  {
   "cell_type": "code",
   "execution_count": null,
   "metadata": {},
   "outputs": [],
   "source": [
    "# Dropping columns lead to the loss of features, hence it is better to drop rows\n",
    "\n",
    "df_drop = df_clean.dropna()\n",
    "\n",
    "print(f\"{df_drop.isnull().sum()}\\n\") # Check if all NAs are dropped"
   ]
  },
  {
   "cell_type": "markdown",
   "metadata": {},
   "source": [
    "#### (b)"
   ]
  },
  {
   "cell_type": "code",
   "execution_count": null,
   "metadata": {},
   "outputs": [],
   "source": [
    "df_imp = df_clean.copy()\n",
    "\n",
    "for i in range(df_clean.shape[1]):\n",
    "    if df_clean.iloc[:, i].dtype == 'object':\n",
    "        df_imp.iloc[:, i] = df_clean.iloc[:, i].fillna(df_clean.iloc[:, i].mode().iloc[0])\n",
    "    else:\n",
    "        df_imp.iloc[:, i] = df_clean.iloc[:, i].fillna(df_clean.iloc[:, i].mean())\n",
    "\n",
    "print(f\"{df_imp.isnull().sum()}\\n\") # Check if all NAs are dropped"
   ]
  },
  {
   "cell_type": "markdown",
   "metadata": {},
   "source": [
    "#### (c)"
   ]
  },
  {
   "cell_type": "code",
   "execution_count": 10,
   "metadata": {},
   "outputs": [],
   "source": [
    "categorical_columns = df_clean.select_dtypes(include=['object']).columns.tolist()\n",
    "\n",
    "# Dropped DataFrame\n",
    "\n",
    "drop_encoded = pd.get_dummies(df_drop[categorical_columns], dtype=float) # Apply one-hot encoding to the categorical columns\n",
    "\n",
    "df_drop_encoded = df_drop.drop(categorical_columns, axis=1).join(drop_encoded)\n",
    "\n",
    "# Imputed DataFrame\n",
    "\n",
    "imp_encoded = pd.get_dummies(df_imp[categorical_columns], dtype=float) # Apply one-hot encoding to the categorical columns\n",
    "\n",
    "df_imp_encoded = df_imp.drop(categorical_columns, axis=1).join(imp_encoded)"
   ]
  },
  {
   "cell_type": "markdown",
   "metadata": {},
   "source": [
    "### Question 3"
   ]
  },
  {
   "cell_type": "markdown",
   "metadata": {},
   "source": [
    "#### (a)"
   ]
  },
  {
   "cell_type": "code",
   "execution_count": null,
   "metadata": {},
   "outputs": [],
   "source": [
    "seaborn.pairplot(df_drop_encoded)"
   ]
  }
 ],
 "metadata": {
  "kernelspec": {
   "display_name": "machine",
   "language": "python",
   "name": "python3"
  },
  "language_info": {
   "codemirror_mode": {
    "name": "ipython",
    "version": 3
   },
   "file_extension": ".py",
   "mimetype": "text/x-python",
   "name": "python",
   "nbconvert_exporter": "python",
   "pygments_lexer": "ipython3",
   "version": "3.12.8"
  }
 },
 "nbformat": 4,
 "nbformat_minor": 2
}
